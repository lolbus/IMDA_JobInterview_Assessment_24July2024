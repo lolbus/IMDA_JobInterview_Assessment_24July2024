{
 "cells": [
  {
   "cell_type": "raw",
   "id": "a3157995-4be5-440f-9227-3506caeab65f",
   "metadata": {},
   "source": [
    "(B) Deliverable  \r\n",
    "1 \tREADME.md \r",
    "2\tPython code (use the following template and feel free to add the necessary methods)\r\n",
    "class Captcha(object):\r\n",
    "    def __init__(self):\r\n",
    "        pass\r\n",
    "\r\n",
    "    def __call__(self, im_path, save_path):\r\n",
    "        \"\"\"\r\n",
    "        Algo for inference\r\n",
    "        args:\r\n",
    "            im_path: .jpg image path to load and to infer\r\n",
    "            save_path: output file path to save the one-line outcome\r\n",
    "        \"\"\"\r\n",
    "        pass\r\n",
    "We would like to learn more about the way you frame the problem and formulate the solution. You may check in the deliverables to your Github or Gitlab and share with us the link.\r\n",
    "b and share with us the link.\r\n"
   ]
  },
  {
   "cell_type": "code",
   "execution_count": 315,
   "id": "60d8ecdb-a25f-4ff9-99e8-5fe866aa20f0",
   "metadata": {},
   "outputs": [],
   "source": [
    "import os\n",
    "\n",
    "\n",
    "class dataloader(object):\n",
    "    def __init__(self, input_dir, output_dir, training_size = 99):\n",
    "    # Initialize an empty dictionary to store the data\n",
    "        data_dict = {}\n",
    "        data_loaded = 0\n",
    "        # Loop through all files in the input directory\n",
    "        for filename in os.listdir(input_dir):\n",
    "            \n",
    "            if filename.endswith(\".jpg\"):\n",
    "                # Get the full path of the image file\n",
    "                img_path = os.path.join(input_dir, filename)\n",
    "                \n",
    "                # Construct the corresponding txt file name\n",
    "                txt_filename = filename.replace(\".jpg\", \".txt\")\n",
    "                txt_filename = txt_filename.replace(\"input\", \"output\")\n",
    "                txt_path = os.path.join(output_dir, txt_filename)\n",
    "                \n",
    "                if os.path.exists(txt_path):\n",
    "                    with open(txt_path, 'r') as txt_file:\n",
    "                        label = txt_file.read().strip()             \n",
    "                        # Store the image path and label in the dictionary\n",
    "                        data_dict[img_path] = label\n",
    "                        data_loaded += 1\n",
    "                        if data_loaded == training_size:\n",
    "                            break\n",
    "\n",
    "    \n",
    "        self.data_dict = data_dict"
   ]
  },
  {
   "cell_type": "code",
   "execution_count": 272,
   "id": "73d08688-5348-449d-89fa-57a2611995df",
   "metadata": {},
   "outputs": [],
   "source": [
    "import os\n",
    "import langchain\n",
    "from langchain.chains import TransformChain\n",
    "from langchain_core.messages import HumanMessage, SystemMessage\n",
    "from langchain_openai import ChatOpenAI\n",
    "from langchain_core.runnables import chain\n",
    "import base64\n",
    "\n",
    "openai_api_key = \"OpenAI API Key\"\n",
    "\n",
    "class llm_model(object):\n",
    "    def __init__(self):\n",
    "        self.llm = ChatOpenAI(openai_api_key=openai_api_key, temperature=0.0, model=\"gpt-4o\", max_tokens=1024)\n",
    "        self.format_instruction = format_instruction = \"\"\"Infer the 5 characters (Only capital letters and numbers) shown in the capcha image provide. \n",
    "             Provide your output in the format of a python dict object code {\"InferredCharacters\": \"XXXXX\"}.\n",
    "             Do not provide any other information. \n",
    "             Do not provide the backticks or any characters not related to the dict string such that I can convert to dict object directly by json.load(result)\"\"\"\n",
    "        \n",
    "\n",
    "def encode_image(image_path):\n",
    "        with open(image_path, \"rb\") as image_file:\n",
    "            return base64.b64encode(image_file.read()).decode('utf-8')\n",
    "            \n",
    "def load_image(inputs: dict) -> dict:\n",
    "    \"\"\"Load image from file and encode it as base64.\"\"\"\n",
    "    image_path = inputs[\"image_path\"]\n",
    "    image_base64 = encode_image(image_path)\n",
    "    return {\"image\": image_base64}\n",
    "\n",
    "load_image_chain = TransformChain(\n",
    "    input_variables=[\"image_path\"],\n",
    "    output_variables=[\"image\"],\n",
    "    transform=load_image\n",
    ")"
   ]
  },
  {
   "cell_type": "code",
   "execution_count": 312,
   "id": "db74ba64-3458-4dc1-8308-e2a57a9251d5",
   "metadata": {},
   "outputs": [],
   "source": [
    "from langchain.tools import tool\n",
    "llm_agent = llm_model()\n",
    "@chain\n",
    "def image_model(inputs: dict) -> str:\n",
    "    \"\"\"Invoke model with image and prompt.\"\"\"\n",
    "    model = llm_agent.llm\n",
    "    print(\"Final vision prompt\\n\", inputs[\"prompt\"])\n",
    "    msg = model.invoke(\n",
    "             [SystemMessage(content=llm_agent.format_instruction),\n",
    "              HumanMessage(\n",
    "             content=[\n",
    "             {\"type\": \"text\", \"text\": inputs[\"prompt\"]},\n",
    "             {\"type\": \"image_url\", \"image_url\": {\"url\": f\"data:image/jpeg;base64,{inputs['image']}\"}},\n",
    "             ])]\n",
    "             )\n",
    "    return msg.content\n",
    "\n",
    "@tool\n",
    "def convert_output_to_dict(llm_output:str) -> dict:\n",
    "    \"\"\"Convert the output of the LLM to a simple dict with only the predicted output as the key\"\"\"\n",
    "    try:\n",
    "        response_dict = json.loads(llm_output)\n",
    "    except json.JSONDecodeError:\n",
    "        response_dict = {\"error\": \"Invalid JSON response\"}\n",
    "    return response_dict\n",
    "    \n",
    "\n",
    "\n",
    "def get_image_information(image_path: str, llm_model, finetune = False, training_data = None) -> dict:\n",
    "    vision_prompt = \"\"\"Given the Captcha image, where \n",
    "    1. the number of characters remains the same each time.  \n",
    "    2. the font and spacing is the same each time.  \n",
    "    3. the background and foreground colors and texture, remain largely the same.\n",
    "    4. there is no skew in the structure of the characters.\n",
    "    5. the captcha generator, creates strictly 5-character captchas, and each of the characters is either an upper-case character (A-Z) or a numeral (0-9).\n",
    "    \n",
    "    Infer the relevant image characters (Letters and Numbers)\n",
    "    \n",
    "    \"\"\"\n",
    "    if finetune:\n",
    "        few_shot_prompt = \"\"\"A list of sample data are as per below to fine-tune your performance for the given task: \n",
    "        \"\"\"\n",
    "        vision_prompt = vision_prompt + few_shot_prompt\n",
    "        for data_path in training_data.data_dict.keys():\n",
    "            encoded_image_data = encode_image(data_path)\n",
    "            fine_tune_data = f\"\"\"Image data: {encoded_image_data} -> True label: {training_data.data_dict[data_path]} \\n\\n\"\"\"\n",
    "            vision_prompt = vision_prompt + fine_tune_data\n",
    "    \n",
    "            \n",
    "    vision_chain = load_image_chain | image_model | convert_output_to_dict\n",
    "    return vision_chain.invoke({'image_path': f'{image_path}', \n",
    "                               'prompt': vision_prompt})"
   ]
  },
  {
   "cell_type": "code",
   "execution_count": 313,
   "id": "a5accc6b-2eee-4efb-878d-b8a2e6bed2a5",
   "metadata": {},
   "outputs": [],
   "source": [
    "sample_image = \"C:/Users/guang/OneDrive/Desktop/IMDA/sampleCaptchas/input/input00.jpg\""
   ]
  },
  {
   "cell_type": "code",
   "execution_count": 316,
   "id": "235b5468-c529-45cf-8b54-08115d411e3c",
   "metadata": {},
   "outputs": [
    {
     "name": "stdout",
     "output_type": "stream",
     "text": [
      "Final vision prompt\n",
      " Given the Captcha image, where \n",
      "    1. the number of characters remains the same each time.  \n",
      "    2. the font and spacing is the same each time.  \n",
      "    3. the background and foreground colors and texture, remain largely the same.\n",
      "    4. there is no skew in the structure of the characters.\n",
      "    5. the captcha generator, creates strictly 5-character captchas, and each of the characters is either an upper-case character (A-Z) or a numeral (0-9).\n",
      "    \n",
      "    Infer the relevant image characters (Letters and Numbers)\n",
      "    \n",
      "    A list of sample data are as per below to fine-tune your performance for the given task: \n",
      "        Image data: /9j/4AAQSkZJRgABAQAAAQABAAD//gA+Q1JFQVRPUjogZ2QtanBlZyB2MS4wICh1c2luZyBJSkcgSlBFRyB2NjIpLCBkZWZhdWx0IHF1YWxpdHkK/9sAQwAIBgYHBgUIBwcHCQkICgwUDQwLCwwZEhMPFB0aHx4dGhwcICQuJyAiLCMcHCg3KSwwMTQ0NB8nOT04MjwuMzQy/9sAQwEJCQkMCwwYDQ0YMiEcITIyMjIyMjIyMjIyMjIyMjIyMjIyMjIyMjIyMjIyMjIyMjIyMjIyMjIyMjIyMjIyMjIy/8AAEQgAHgA8AwEiAAIRAQMRAf/EAB8AAAEFAQEBAQEBAAAAAAAAAAABAgMEBQYHCAkKC//EALUQAAIBAwMCBAMFBQQEAAABfQECAwAEEQUSITFBBhNRYQcicRQygZGhCCNCscEVUtHwJDNicoIJChYXGBkaJSYnKCkqNDU2Nzg5OkNERUZHSElKU1RVVldYWVpjZGVmZ2hpanN0dXZ3eHl6g4SFhoeIiYqSk5SVlpeYmZqio6Slpqeoqaqys7S1tre4ubrCw8TFxsfIycrS09TV1tfY2drh4uPk5ebn6Onq8fLz9PX29/j5+v/EAB8BAAMBAQEBAQEBAQEAAAAAAAABAgMEBQYHCAkKC//EALURAAIBAgQEAwQHBQQEAAECdwABAgMRBAUhMQYSQVEHYXETIjKBCBRCkaGxwQkjM1LwFWJy0QoWJDThJfEXGBkaJicoKSo1Njc4OTpDREVGR0hJSlNUVVZXWFlaY2RlZmdoaWpzdHV2d3h5eoKDhIWGh4iJipKTlJWWl5iZmqKjpKWmp6ipqrKztLW2t7i5usLDxMXGx8jJytLT1NXW19jZ2uLj5OXm5+jp6vLz9PX29/j5+v/aAAwDAQACEQMRAD8A9yma8hQN50By6r/qT3YD+971G9zNFcNFLd2seEVgXjIzkkf3/b9a5v4k+JLvw1pWjyWs9nb/AG7V7ezmuLxSyQRtuYucMvTYDyQMZ+ozbjxcfD/h/U/FN1rem+JILWDy0/sqIRgPvRQjN5rjkyKfUDJw2QKAOunvATGjXVvKpYOfKCj7rA9S+Bn/ABqRdVLQeaq2pOwv5YuPmwBnGNvWsbf45tIY2uJ/D1zJLbSLsit7iIRXOzMePmcyR7gwPCHHI/u1hQeNdS8QTaRo9vpUses28yHxDFPayrFZR7WD4YE5Z85iwWBHJwKAO8trS2ljd5LeJ2MsmWZASfnNJPFa2k1tKI4YR5pBcKF42N3rzPwl8R9Z8UaHpcOlQWUms3DyS6i62sr2+nRea+C+HyzuF+VAQTySQBzb+IXxGu/DljOdFgg1K/0/ZNeF4WWKyR28tfN+cHexb5UBzjLHgcgHeR3UTqzPqYQ73AUNHgAMQOo9MVJbXgMPzPJIQzDesLMGAYgHKjHTHSo90qWNvBJbSKUaFSxKkZDL6HP6Vq0AcL4v8Nah4gi0aXSLbTopNM1mK+PnytGJVhLgrlY2xk47VU1Xw1qnivw/qXh3VrbTdP8AOhEcc1jcvKSylHDNuiXOCF4HUFhletd5Z/6lv+usn/obVnTXkdnqMkjq5BLD5QM/di/woA5RdB1zVPGnhvxNrNnpVtJpMdxDPJp8ks73LMhQDBiUoitvIBZsbsdya09B0qbT/HXivXZXD2urm0ECRxSF1MMRRtwK4HJ4wT+FdNp0gls/MUEBpHIz15c1WjthdBpvLtPmkdfmt9xyGIyTu56UAcB4O+Hur+E/DulXOlTWcOvQF4tQhZnW21GEzOyhzt3LIqt8km0kfdIKnh3i/wCHVtq/hbWrTRobi1v9SvjM8kmoTC1eVrhdzPEHKkkD+4eg9Bjv47WIXMcckFo6sjP8sAUggr7n1q75EPleR5SeX/c2jb69KAIJYVtrCCBDIUjaJFMkjOxAZRyzElj7kknvV2s2+htbS289beNTG6HKIAfvDpUX/CQ2n/POf8h/jQB//9kNCg== -> True label: EGYK4 \n",
      "Image data: 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 -> True label: GRC35 \n",
      "Image data: /9j/4AAQSkZJRgABAQAAAQABAAD//gA+Q1JFQVRPUjogZ2QtanBlZyB2MS4wICh1c2luZyBJSkcgSlBFRyB2NjIpLCBkZWZhdWx0IHF1YWxpdHkK/9sAQwAIBgYHBgUIBwcHCQkICgwUDQwLCwwZEhMPFB0aHx4dGhwcICQuJyAiLCMcHCg3KSwwMTQ0NB8nOT04MjwuMzQy/9sAQwEJCQkMCwwYDQ0YMiEcITIyMjIyMjIyMjIyMjIyMjIyMjIyMjIyMjIyMjIyMjIyMjIyMjIyMjIyMjIyMjIyMjIy/8AAEQgAHgA8AwEiAAIRAQMRAf/EAB8AAAEFAQEBAQEBAAAAAAAAAAABAgMEBQYHCAkKC//EALUQAAIBAwMCBAMFBQQEAAABfQECAwAEEQUSITFBBhNRYQcicRQygZGhCCNCscEVUtHwJDNicoIJChYXGBkaJSYnKCkqNDU2Nzg5OkNERUZHSElKU1RVVldYWVpjZGVmZ2hpanN0dXZ3eHl6g4SFhoeIiYqSk5SVlpeYmZqio6Slpqeoqaqys7S1tre4ubrCw8TFxsfIycrS09TV1tfY2drh4uPk5ebn6Onq8fLz9PX29/j5+v/EAB8BAAMBAQEBAQEBAQEAAAAAAAABAgMEBQYHCAkKC//EALURAAIBAgQEAwQHBQQEAAECdwABAgMRBAUhMQYSQVEHYXETIjKBCBRCkaGxwQkjM1LwFWJy0QoWJDThJfEXGBkaJicoKSo1Njc4OTpDREVGR0hJSlNUVVZXWFlaY2RlZmdoaWpzdHV2d3h5eoKDhIWGh4iJipKTlJWWl5iZmqKjpKWmp6ipqrKztLW2t7i5usLDxMXGx8jJytLT1NXW19jZ2uLj5OXm5+jp6vLz9PX29/j5+v/aAAwDAQACEQMRAD8A9yma8hQN50By6r/qT3YD+971G9zNFcNFLd2seEVgXjIzkkf3/b9axvHmvzaDo1mlnEkmo6lqEFhZeaSIkmdsq0hHOwbTnAJPA4zkc0/ja50LS9c8Q391puv2VjAi215pMqqkzMyL5Truby2VmUltzZVwQMgigDtp7wExo11byqWDnygo+6wPUvgZ/wAakXVS0HmqtqTsL+WLj5sAZxjb1ritc8a+JPB7Lba6ml3Vze6VdXNm9jDIiRXNvEZHSRWcloyMYcFTwcqM5DPDnjGbxFJoS6jrGnt9vgNx9kt9JuYi5ER3pHO0rJIULAMFBIwcgYOADvra0tpY3eS3idjLJlmQEn5zSTxWtpNbSiOGEeaQXCheNjd68qT4rahB8JV8RRtpZ1xla4axMb4EZujFvxv3bc8ZzjPHtXRap4x1iy+JPh3Q302P+yr4z4u2AV5pEiOVjXflQCVBLgZycDAyQDro7qJ1Zn1MId7gKGjwAGIHUemKktrwGH5nkkIZhvWFmDAMQDlRjpjpUe6VLG3gktpFKNCpYlSMhl9Dn9K1aAOI8Y+Ef+Eu0eKG2trCKeyvVurcXC7oZpIiw2TKFyY2BIIBzyOuMHm734dX/iOfXV1WWy0+bULKOyEOnOxj/dNHKs0rMgMsm7C/dXCAgHnI9Ss/9S3/AF1k/wDQ2rOmvI7PUZJHVyCWHygZ+7F/hQByx0PxDrfiPRtc157OyOkwTwQnSWeZ2nlQxySnzI8Ko2jahDcnkkcFkmjeIPEFxoMHiK5s3tNGvhem7s4ZRPezREiLdGUCRAgkuAXyeF2jkd1p0gls/MUEBpHIz15c1WjthdBpvLtPmkdfmt9xyGIyTu56UAeMRfA7XJfA32Ya/EuseUbPyHjxbfZfP87y92zzN3mfvN+P9nGOa7DxFo3iXUfGmgazZafp5s9FurnY09+yNOZiE5AibZgj/ayPTpXcx2sQuY45ILR1ZGf5YApBBX3PrV3yIfK8jyk8v+5tG316UAMvP9Sv/XWP/wBDWrNZt9Da2lt5628amN0OUQA/eHSov+EhtP8AnnP+Q/xoA//ZDQo= -> True label: 6O5W1 \n",
      "\n"
     ]
    }
   ],
   "source": [
    "training_data = dataloader(input_dir, output_dir, training_size = 3) # Select an integer between 1 to 25 to set the amount of data used to fine tune \n",
    "result = get_image_information(sample_image, llm_agent, finetune = True, training_data = training_data)"
   ]
  },
  {
   "cell_type": "code",
   "execution_count": 311,
   "id": "3d396377-3c16-459f-9e28-cd7c73609c7f",
   "metadata": {},
   "outputs": [
    {
     "data": {
      "text/plain": [
       "{'InferredCharacters': 'EGYK4'}"
      ]
     },
     "execution_count": 311,
     "metadata": {},
     "output_type": "execute_result"
    }
   ],
   "source": [
    "result"
   ]
  },
  {
   "cell_type": "code",
   "execution_count": 317,
   "id": "62776d59-5537-4322-acc2-ec9b507fe2f4",
   "metadata": {},
   "outputs": [],
   "source": [
    "input_dir = r\"C:\\Users\\guang\\OneDrive\\Desktop\\IMDA\\sampleCaptchas\\input\"\n",
    "output_dir = r\"C:\\Users\\guang\\OneDrive\\Desktop\\IMDA\\sampleCaptchas\\output\"\n",
    "\n",
    "\n",
    "class Captcha(object):\n",
    "    def __init__(self, finetune = False, llm_agent = None, input_dir=\"\", output_dir=\"\"):\n",
    "        self.finetune = finetune\n",
    "        self.llm_agent = llm_agent\n",
    "        self.training_data = dataloader(input_dir, output_dir, training_size = 3) # Select an integer between 1 to 25 to set the amount of data used to fine tune \n",
    "\n",
    "\n",
    "    def __call__(self, im_path, save_path):\n",
    "        \"\"\"\n",
    "        Algo for inference\n",
    "        args:\n",
    "            im_path: .jpg image path to load and to infer\n",
    "            save_path: output file path to save the one-line outcome\n",
    "        \"\"\"\n",
    "        result = get_image_information(im_path, self.llm_agent)\n",
    "        print(result)"
   ]
  },
  {
   "cell_type": "code",
   "execution_count": 318,
   "id": "590508a9-f9b8-49ac-a6c7-ac69e6fe176d",
   "metadata": {},
   "outputs": [
    {
     "name": "stdout",
     "output_type": "stream",
     "text": [
      "Final vision prompt\n",
      " Given the Captcha image, where \n",
      "    1. the number of characters remains the same each time.  \n",
      "    2. the font and spacing is the same each time.  \n",
      "    3. the background and foreground colors and texture, remain largely the same.\n",
      "    4. there is no skew in the structure of the characters.\n",
      "    5. the captcha generator, creates strictly 5-character captchas, and each of the characters is either an upper-case character (A-Z) or a numeral (0-9).\n",
      "    \n",
      "    Infer the relevant image characters (Letters and Numbers)\n",
      "    \n",
      "    \n",
      "{'InferredCharacters': 'EGYK4'}\n"
     ]
    }
   ],
   "source": [
    "captcha_inferencer = Captcha(finetune = False, llm_agent = llm_agent, input_dir = input_dir, output_dir = output_dir)\n",
    "captcha_inferencer(sample_image, None)"
   ]
  },
  {
   "cell_type": "code",
   "execution_count": null,
   "id": "2f9715e9-0ce7-4fdd-be9b-69d1a17eb4b6",
   "metadata": {},
   "outputs": [],
   "source": []
  },
  {
   "cell_type": "code",
   "execution_count": null,
   "id": "2ce7d06d-91d8-4b4e-af98-493567af64aa",
   "metadata": {},
   "outputs": [],
   "source": []
  }
 ],
 "metadata": {
  "kernelspec": {
   "display_name": "Python 3 (ipykernel)",
   "language": "python",
   "name": "python3"
  },
  "language_info": {
   "codemirror_mode": {
    "name": "ipython",
    "version": 3
   },
   "file_extension": ".py",
   "mimetype": "text/x-python",
   "name": "python",
   "nbconvert_exporter": "python",
   "pygments_lexer": "ipython3",
   "version": "3.10.13"
  }
 },
 "nbformat": 4,
 "nbformat_minor": 5
}

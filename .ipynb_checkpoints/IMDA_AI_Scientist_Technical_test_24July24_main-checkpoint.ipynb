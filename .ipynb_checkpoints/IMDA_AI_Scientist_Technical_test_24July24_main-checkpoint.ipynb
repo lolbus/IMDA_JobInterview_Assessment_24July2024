{
 "cells": [
  {
   "cell_type": "raw",
   "id": "a3157995-4be5-440f-9227-3506caeab65f",
   "metadata": {},
   "source": [
    "(B) Deliverable  \r\n",
    "1 \tREADME.md \r",
    "2\tPython code (use the following template and feel free to add the necessary methods)\r\n",
    "class Captcha(object):\r\n",
    "    def __init__(self):\r\n",
    "        pass\r\n",
    "\r\n",
    "    def __call__(self, im_path, save_path):\r\n",
    "        \"\"\"\r\n",
    "        Algo for inference\r\n",
    "        args:\r\n",
    "            im_path: .jpg image path to load and to infer\r\n",
    "            save_path: output file path to save the one-line outcome\r\n",
    "        \"\"\"\r\n",
    "        pass\r\n",
    "We would like to learn more about the way you frame the problem and formulate the solution. You may check in the deliverables to your Github or Gitlab and share with us the link.\r\n",
    "b and share with us the link.\r\n"
   ]
  },
  {
   "cell_type": "code",
   "execution_count": null,
   "id": "62776d59-5537-4322-acc2-ec9b507fe2f4",
   "metadata": {},
   "outputs": [],
   "source": [
    "\"\"\"Available Strategies:\n",
    "1. OpenAI GPT4o AI Assistant - LLMAIAssistant\n",
    "2. PyTorch model self trained model - PytorchCNN\n",
    "3. Pytorch model + OpenAI GPT4o AI Assistant Collaboration - Collaborative\n",
    "4. Pytorch model trained as O, 0, 1, I 4-class Discriminator + OpenAI GPT4o AI Assistant Collaboration - Collaborative-with-NicheDiscriminator\"\"\"\n",
    "\n",
    "from CaptchaClass import Captcha\n",
    "\n",
    "openai_api_key = \"sk-proj-OP2IckZNWS1a9GsDQLYzT3BlbkFJkQ3fVVD3BpJw4cG8b6Yv\"\n",
    "\n",
    "captcha_inferencer = Captcha(strategy = \"Collaborative-with-NicheDiscriminator\", openai_api_key=openai_api_key)\n"
   ]
  },
  {
   "cell_type": "code",
   "execution_count": null,
   "id": "2f9715e9-0ce7-4fdd-be9b-69d1a17eb4b6",
   "metadata": {
    "scrolled": true
   },
   "outputs": [],
   "source": [
    "from InferenceDataloader import dataloader\n",
    "from PIL import Image\n",
    "import os\n",
    "\n",
    "input_dir = r\"C:\\Users\\guang\\OneDrive\\Desktop\\IMDA\\sampleCaptchas\\input\"\n",
    "output_dir = r\"C:\\Users\\guang\\OneDrive\\Desktop\\IMDA\\sampleCaptchas\\output\"\n",
    "save_dir =  r\"C:\\Users\\guang\\OneDrive\\Desktop\\IMDA\\sampleCaptchas\\sample_save\"\n",
    "\n",
    "inference_data = dataloader(input_dir, output_dir)\n",
    "\n",
    "corrects = 0\n",
    "attempts = 0\n",
    "for data_path in inference_data.data_dict:\n",
    "    \n",
    "    displayable_image = Image.open(data_path)\n",
    "    display(displayable_image)\n",
    "\n",
    "    true_label = inference_data.data_dict[data_path]\n",
    "    save_path_filename = os.path.join(save_dir, true_label + \".txt\")\n",
    "    \n",
    "    inferred_output = captcha_inferencer(data_path, save_path = save_path_filename)\n",
    "    predict = inferred_output['InferredCharacters']\n",
    "    print(f\"Predict result: {predict} versus True Label: {true_label}\")\n",
    "    \n",
    "    if predict == true_label:\n",
    "        corrects += 1\n",
    "    else:\n",
    "        print(\"incorrect! Predicting\", data_path)\n",
    "    attempts += 1\n",
    "    print()\n",
    "\n",
    "print(f\"Final remarks: corrects {corrects} out of {attempts} attempts. accuracy of {corrects/attempts:.2f}\")\n",
    "\n",
    "\n",
    "# Common errors, mistaken O as 0, I mistake as 1, mistake 0 as O, "
   ]
  },
  {
   "cell_type": "code",
   "execution_count": null,
   "id": "2ce7d06d-91d8-4b4e-af98-493567af64aa",
   "metadata": {},
   "outputs": [],
   "source": []
  },
  {
   "cell_type": "code",
   "execution_count": null,
   "id": "75f14a5a-6314-4f6b-8cab-777d2b655479",
   "metadata": {},
   "outputs": [],
   "source": []
  }
 ],
 "metadata": {
  "kernelspec": {
   "display_name": "Python 3 (ipykernel)",
   "language": "python",
   "name": "python3"
  },
  "language_info": {
   "codemirror_mode": {
    "name": "ipython",
    "version": 3
   },
   "file_extension": ".py",
   "mimetype": "text/x-python",
   "name": "python",
   "nbconvert_exporter": "python",
   "pygments_lexer": "ipython3",
   "version": "3.10.13"
  }
 },
 "nbformat": 4,
 "nbformat_minor": 5
}

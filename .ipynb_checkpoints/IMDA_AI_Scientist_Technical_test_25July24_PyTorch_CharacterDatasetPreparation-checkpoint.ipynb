{
 "cells": [
  {
   "cell_type": "code",
   "execution_count": 2,
   "id": "076bcbb6-9576-43a6-814c-421d2e657835",
   "metadata": {},
   "outputs": [
    {
     "name": "stdout",
     "output_type": "stream",
     "text": [
      "performing task on C:\\Users\\guang\\OneDrive\\Desktop\\IMDA\\torch_training_data\\input\\input00.jpg\n",
      "performing task on C:\\Users\\guang\\OneDrive\\Desktop\\IMDA\\torch_training_data\\input\\input01.jpg\n",
      "performing task on C:\\Users\\guang\\OneDrive\\Desktop\\IMDA\\torch_training_data\\input\\input02.jpg\n",
      "performing task on C:\\Users\\guang\\OneDrive\\Desktop\\IMDA\\torch_training_data\\input\\input03.jpg\n",
      "performing task on C:\\Users\\guang\\OneDrive\\Desktop\\IMDA\\torch_training_data\\input\\input04.jpg\n",
      "performing task on C:\\Users\\guang\\OneDrive\\Desktop\\IMDA\\torch_training_data\\input\\input05.jpg\n",
      "performing task on C:\\Users\\guang\\OneDrive\\Desktop\\IMDA\\torch_training_data\\input\\input06.jpg\n",
      "performing task on C:\\Users\\guang\\OneDrive\\Desktop\\IMDA\\torch_training_data\\input\\input07.jpg\n",
      "performing task on C:\\Users\\guang\\OneDrive\\Desktop\\IMDA\\torch_training_data\\input\\input08.jpg\n",
      "performing task on C:\\Users\\guang\\OneDrive\\Desktop\\IMDA\\torch_training_data\\input\\input09.jpg\n",
      "performing task on C:\\Users\\guang\\OneDrive\\Desktop\\IMDA\\torch_training_data\\input\\input10.jpg\n",
      "performing task on C:\\Users\\guang\\OneDrive\\Desktop\\IMDA\\torch_training_data\\input\\input11.jpg\n",
      "performing task on C:\\Users\\guang\\OneDrive\\Desktop\\IMDA\\torch_training_data\\input\\input12.jpg\n",
      "performing task on C:\\Users\\guang\\OneDrive\\Desktop\\IMDA\\torch_training_data\\input\\input13.jpg\n",
      "performing task on C:\\Users\\guang\\OneDrive\\Desktop\\IMDA\\torch_training_data\\input\\input14.jpg\n",
      "performing task on C:\\Users\\guang\\OneDrive\\Desktop\\IMDA\\torch_training_data\\input\\input15.jpg\n",
      "performing task on C:\\Users\\guang\\OneDrive\\Desktop\\IMDA\\torch_training_data\\input\\input16.jpg\n",
      "performing task on C:\\Users\\guang\\OneDrive\\Desktop\\IMDA\\torch_training_data\\input\\input17.jpg\n",
      "performing task on C:\\Users\\guang\\OneDrive\\Desktop\\IMDA\\torch_training_data\\input\\input18.jpg\n",
      "performing task on C:\\Users\\guang\\OneDrive\\Desktop\\IMDA\\torch_training_data\\input\\input19.jpg\n",
      "performing task on C:\\Users\\guang\\OneDrive\\Desktop\\IMDA\\torch_training_data\\input\\input20.jpg\n",
      "performing task on C:\\Users\\guang\\OneDrive\\Desktop\\IMDA\\torch_training_data\\input\\input21.jpg\n",
      "performing task on C:\\Users\\guang\\OneDrive\\Desktop\\IMDA\\torch_training_data\\input\\input22.jpg\n",
      "performing task on C:\\Users\\guang\\OneDrive\\Desktop\\IMDA\\torch_training_data\\input\\input23.jpg\n",
      "Processing complete.\n"
     ]
    }
   ],
   "source": [
    "import os\n",
    "from PIL import Image\n",
    "import PIL\n",
    "from TorchInferenceEngine import crop_image_and_return_5char, coordinates\n",
    "\n",
    "# Paths to the input and output folders\n",
    "input_folder = r'C:\\Users\\guang\\OneDrive\\Desktop\\IMDA\\torch_training_data\\input'\n",
    "output_folder = r'C:\\Users\\guang\\OneDrive\\Desktop\\IMDA\\torch_training_data\\output'\n",
    "letters_input_folder = r'C:\\Users\\guang\\OneDrive\\Desktop\\IMDA\\torch_training_data\\letters\\input'\n",
    "letters_output_folder = r'C:\\Users\\guang\\OneDrive\\Desktop\\IMDA\\torch_training_data\\letters\\output'\n",
    "\n",
    "# Create the output folder if it does not exist\n",
    "os.makedirs(letters_input_folder, exist_ok=True)\n",
    "os.makedirs(letters_output_folder, exist_ok=True)\n",
    "\n",
    "# Loop through all the images in the input folder\n",
    "for filename in os.listdir(input_folder):\n",
    "    if filename.endswith('.jpg'):\n",
    "        image_path = os.path.join(input_folder, filename)\n",
    "        print(f\"performing task on {image_path}\")\n",
    "        image = Image.open(image_path)\n",
    "\n",
    "        # Construct the corresponding txt file name\n",
    "        txt_filename = filename.replace(\".jpg\", \".txt\")\n",
    "        txt_filename = txt_filename.replace(\"input\", \"output\")\n",
    "        txt_path = os.path.join(output_folder, txt_filename)\n",
    "        \n",
    "        if os.path.exists(txt_path):\n",
    "            with open(txt_path, 'r') as txt_file:\n",
    "                label = txt_file.read().strip()             \n",
    "        image_list = crop_image_and_return_5char(image, coordinates)\n",
    "        for i, char_image in enumerate(image_list):\n",
    "            char_label = label[i]\n",
    "            char_filename = f\"{os.path.splitext(filename)[0]}_char{i+1}.jpg\"\n",
    "            char_label_filename = f\"{os.path.splitext(txt_filename)[0]}_char{i+1}.txt\"\n",
    "            char_image.save(os.path.join(letters_input_folder, char_filename))\n",
    "            with open(os.path.join(letters_output_folder, char_label_filename), 'w') as char_txt_file:\n",
    "                char_txt_file.write(char_label)\n",
    "\n",
    "\n",
    "print(\"Processing complete.\")\n",
    "\n"
   ]
  },
  {
   "cell_type": "code",
   "execution_count": null,
   "id": "7264d5b5-c434-4a22-a397-388cbb73ed73",
   "metadata": {},
   "outputs": [],
   "source": [
    "#!pip install pillow"
   ]
  },
  {
   "cell_type": "code",
   "execution_count": null,
   "id": "f0306619-c0a2-4b0c-b5de-13e62e1bcc2a",
   "metadata": {},
   "outputs": [],
   "source": []
  },
  {
   "cell_type": "code",
   "execution_count": null,
   "id": "86d376f2-0d4d-45ae-9e91-9eb065bba4b3",
   "metadata": {},
   "outputs": [],
   "source": []
  }
 ],
 "metadata": {
  "kernelspec": {
   "display_name": "Python 3 (ipykernel)",
   "language": "python",
   "name": "python3"
  },
  "language_info": {
   "codemirror_mode": {
    "name": "ipython",
    "version": 3
   },
   "file_extension": ".py",
   "mimetype": "text/x-python",
   "name": "python",
   "nbconvert_exporter": "python",
   "pygments_lexer": "ipython3",
   "version": "3.10.13"
  }
 },
 "nbformat": 4,
 "nbformat_minor": 5
}

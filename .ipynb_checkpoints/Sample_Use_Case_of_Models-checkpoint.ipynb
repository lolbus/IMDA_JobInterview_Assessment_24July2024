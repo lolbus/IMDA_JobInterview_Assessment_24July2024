{
 "cells": [
  {
   "cell_type": "code",
   "execution_count": 1,
   "id": "7b42c015-33af-4353-b4a8-2351b6ef5127",
   "metadata": {},
   "outputs": [
    {
     "name": "stdout",
     "output_type": "stream",
     "text": [
      "{'InferredCharacters': '518VE'}\n"
     ]
    },
    {
     "data": {
      "image/jpeg": "[encoded data removed]",
      "image/png": "[encoded data removed]",
      "text/plain": [
       "<PIL.JpegImagePlugin.JpegImageFile image mode=RGB size=60x30>"
      ]
     },
     "metadata": {},
     "output_type": "display_data"
    }
   ],
   "source": [
    "# Sample usage of OpenAI trained torch model\n",
    "import OpenAIInferenceEngine\n",
    "from OpenAIInferenceEngine import load_OpenAI_ai_model, llm_model\n",
    "from InferenceDataloader import dataloader\n",
    "from PIL import Image\n",
    "\n",
    "openai_api_key = \"<OPENAI-API-KEY>\"\n",
    "\n",
    "\n",
    "# Use data used for zero-shot prompting to fine-tune LLM\n",
    "finetune_input_dir = r\"C:\\Users\\guang\\OneDrive\\Desktop\\IMDA\\fine-tune-data\\input\"\n",
    "finetune_output_dir = r\"C:\\Users\\guang\\OneDrive\\Desktop\\IMDA\\fine-tune-data\\output\"\n",
    "training_data = dataloader(input_dir = finetune_input_dir, output_dir = finetune_output_dir)\n",
    "OpenAIInferenceEngine.llm_agent = llm_model(finetune = False, training_data = training_data, openai_api_key=openai_api_key)\n",
    "openai_ai_model = load_OpenAI_ai_model()\n",
    "\n",
    "\n",
    "sample_catpcha_image_path = r'C:\\Users\\guang\\OneDrive\\Desktop\\IMDA\\sampleCaptchas\\input\\input19.jpg'\n",
    "\n",
    "ir = openai_ai_model.get_image_information(sample_catpcha_image_path)\n",
    "print(ir)\n",
    "\n",
    "sample_image = Image.open(sample_catpcha_image_path)\n",
    "display(sample_image)"
   ]
  },
  {
   "cell_type": "code",
   "execution_count": 5,
   "id": "d466151c-29fb-4bc6-b827-812913b374f9",
   "metadata": {},
   "outputs": [
    {
     "name": "stdout",
     "output_type": "stream",
     "text": [
      "{'InferredCharacters': 'YMB1Q'}\n"
     ]
    },
    {
     "data": {
      "image/jpeg": "[encoded data removed]",
      "image/png": "[encoded data removed]",
      "text/plain": [
       "<PIL.JpegImagePlugin.JpegImageFile image mode=RGB size=60x30>"
      ]
     },
     "metadata": {},
     "output_type": "display_data"
    }
   ],
   "source": [
    "# Sample usage of torch trained torch model\n",
    "from TorchInferenceEngine import load_torch_ai_model\n",
    "\n",
    "from PIL import Image\n",
    "\n",
    "torch_ai_model = load_torch_ai_model(model_path = 'imda_technical_test_pytorch_model_ver2.pth')\n",
    "sample_catpcha_image_path = r'C:\\Users\\guang\\OneDrive\\Desktop\\IMDA\\sampleCaptchas\\input\\input100.jpg'\n",
    "ir = torch_ai_model.get_image_information(sample_catpcha_image_path)\n",
    "print(ir)\n",
    "\n",
    "sample_image = Image.open(sample_catpcha_image_path)\n",
    "display(sample_image)"
   ]
  },
  {
   "cell_type": "code",
   "execution_count": 3,
   "id": "18776d98-fea9-479c-9b37-c241652f77db",
   "metadata": {},
   "outputs": [
    {
     "name": "stderr",
     "output_type": "stream",
     "text": [
      "C:\\Users\\guang\\OneDrive\\Desktop\\IMDA\\TorchInferenceEngine.py:44: FutureWarning: You are using `torch.load` with `weights_only=False` (the current default value), which uses the default pickle module implicitly. It is possible to construct malicious pickle data which will execute arbitrary code during unpickling (See https://github.com/pytorch/pytorch/blob/main/SECURITY.md#untrusted-models for more details). In a future release, the default value for `weights_only` will be flipped to `True`. This limits the functions that could be executed during unpickling. Arbitrary objects will no longer be allowed to be loaded via this mode unless they are explicitly allowlisted by the user via `torch.serialization.add_safe_globals`. We recommend you start setting `weights_only=True` for any use case where you don't have full control of the loaded file. Please open an issue on GitHub for any issues related to this experimental feature.\n",
      "  torch_model.load_state_dict(torch.load(model_path))\n"
     ]
    },
    {
     "name": "stdout",
     "output_type": "stream",
     "text": [
      "{'InferredCharacters': '5I8VE'}\n"
     ]
    },
    {
     "data": {
      "image/jpeg": "[encoded data removed]",
      "image/png": "[encoded data removed]",
      "text/plain": [
       "<PIL.JpegImagePlugin.JpegImageFile image mode=RGB size=60x30>"
      ]
     },
     "metadata": {},
     "output_type": "display_data"
    }
   ],
   "source": [
    "# Sample usage of Pytorch + OpenAI Gpt4o Collaboration model\n",
    "import OpenAIInferenceEngine\n",
    "from OpenAIInferenceEngine import load_OpenAI_ai_model, llm_model\n",
    "from InferenceDataloader import dataloader\n",
    "from TorchInferenceEngine import load_torch_ai_model\n",
    "from CollaborativeInferenceEngine import load_collaborative_model\n",
    "\n",
    "from PIL import Image\n",
    "\n",
    "openai_api_key = \"<OPENAI-API KEY>\"\n",
    "\n",
    "# Insert OpenAI API Keys into LLM\n",
    "OpenAIInferenceEngine.llm_agent = llm_model(openai_api_key=openai_api_key)\n",
    "\n",
    "# define the models\n",
    "openai_ai_model = load_OpenAI_ai_model()\n",
    "torch_ai_model = load_torch_ai_model(model_path = 'imda_technical_test_pytorch_model_ver2.pth')\n",
    "        \n",
    "collaborative_model = load_collaborative_model(torch_ai_model=torch_ai_model, openai_ai_model=openai_ai_model)\n",
    "sample_catpcha_image_path = r'C:\\Users\\guang\\OneDrive\\Desktop\\IMDA\\sampleCaptchas\\input\\input24.jpg'\n",
    "ir = collaborative_model.get_image_information(sample_catpcha_image_path)\n",
    "print(ir)\n",
    "\n",
    "sample_image = Image.open(sample_catpcha_image_path)\n",
    "display(sample_image)\n"
   ]
  },
  {
   "cell_type": "code",
   "execution_count": null,
   "id": "d7be2810-5d78-4ae0-8829-03c65eba1eed",
   "metadata": {},
   "outputs": [],
   "source": []
  }
 ],
 "metadata": {
  "kernelspec": {
   "display_name": "Python 3 (ipykernel)",
   "language": "python",
   "name": "python3"
  },
  "language_info": {
   "codemirror_mode": {
    "name": "ipython",
    "version": 3
   },
   "file_extension": ".py",
   "mimetype": "text/x-python",
   "name": "python",
   "nbconvert_exporter": "python",
   "pygments_lexer": "ipython3",
   "version": "3.10.13"
  }
 },
 "nbformat": 4,
 "nbformat_minor": 5
}

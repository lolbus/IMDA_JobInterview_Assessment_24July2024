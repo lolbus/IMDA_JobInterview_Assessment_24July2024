{
 "cells": [
  {
   "cell_type": "code",
   "execution_count": 2,
   "id": "076bcbb6-9576-43a6-814c-421d2e657835",
   "metadata": {},
   "outputs": [
    {
     "name": "stdout",
     "output_type": "stream",
     "text": [
      "performing task on .\\torch_training_data\\input\\input00.jpg\n",
      "performing task on .\\torch_training_data\\input\\input01.jpg\n",
      "performing task on .\\torch_training_data\\input\\input02.jpg\n",
      "performing task on .\\torch_training_data\\input\\input03.jpg\n",
      "performing task on .\\torch_training_data\\input\\input04.jpg\n",
      "performing task on .\\torch_training_data\\input\\input05.jpg\n",
      "performing task on .\\torch_training_data\\input\\input06.jpg\n",
      "performing task on .\\torch_training_data\\input\\input07.jpg\n",
      "performing task on .\\torch_training_data\\input\\input08.jpg\n",
      "performing task on .\\torch_training_data\\input\\input09.jpg\n",
      "performing task on .\\torch_training_data\\input\\input10.jpg\n",
      "performing task on .\\torch_training_data\\input\\input11.jpg\n",
      "performing task on .\\torch_training_data\\input\\input12.jpg\n",
      "performing task on .\\torch_training_data\\input\\input13.jpg\n",
      "performing task on .\\torch_training_data\\input\\input14.jpg\n",
      "performing task on .\\torch_training_data\\input\\input15.jpg\n",
      "performing task on .\\torch_training_data\\input\\input16.jpg\n",
      "performing task on .\\torch_training_data\\input\\input17.jpg\n",
      "performing task on .\\torch_training_data\\input\\input18.jpg\n",
      "performing task on .\\torch_training_data\\input\\input19.jpg\n",
      "performing task on .\\torch_training_data\\input\\input20.jpg\n",
      "performing task on .\\torch_training_data\\input\\input21.jpg\n",
      "performing task on .\\torch_training_data\\input\\input22.jpg\n",
      "performing task on .\\torch_training_data\\input\\input23.jpg\n",
      "performing task on .\\torch_training_data\\input\\input24.jpg\n",
      "Processing complete.\n"
     ]
    }
   ],
   "source": [
    "# This code block prepares dataset to train a SimpleCNN to do character inference \n",
    "import os\n",
    "from PIL import Image\n",
    "import PIL\n",
    "from TorchInferenceEngine import crop_image_and_return_5char, coordinates\n",
    "import numpy as np\n",
    "import torch\n",
    "import torchvision.transforms as transforms\n",
    "\n",
    "# Paths to the input and output folders\n",
    "input_folder = r'.\\torch_training_data\\input'\n",
    "output_folder = r'.\\torch_training_data\\output'\n",
    "letters_input_folder = r'.\\torch_training_data\\letters\\input'\n",
    "letters_output_folder = r'.\\torch_training_data\\letters\\output'\n",
    "filter_for_characters = [] # Add characters to this list to prepare customize dataset that only contains the filter characters\n",
    "# leave the above as empty list if you want to prepare a character dataset that includes all characters\n",
    "\n",
    "# Create the output folder if it does not exist\n",
    "os.makedirs(letters_input_folder, exist_ok=True)\n",
    "os.makedirs(letters_output_folder, exist_ok=True)\n",
    "\n",
    "def convert_image_to_white_or_black_r_image(image):\n",
    "    \"\"\"\n",
    "    This function convert a PIL image to a black (0 value) or white (255 value) image\n",
    "    args:\n",
    "        img : PIL image\n",
    "    output:\n",
    "        result img: PIL image\n",
    "    \"\"\"\n",
    "    image_np = np.array(image)\n",
    "    image_tensor = torch.from_numpy(image_np).permute(2, 0, 1).float()\n",
    "    binary_tensor = (image_tensor >= 64).to(torch.uint8)\n",
    "    result_tensor = binary_tensor * 255\n",
    "    result_np = result_tensor.permute(1, 2, 0).numpy().astype(np.uint8)\n",
    "    result_image = Image.fromarray(result_np)\n",
    "    return result_image\n",
    "\n",
    "\n",
    "# Loop through all the images in the input folder\n",
    "for filename in os.listdir(input_folder):\n",
    "    if filename.endswith('.jpg'):\n",
    "        \n",
    "        # Construct the corresponding txt file name\n",
    "        txt_filename = filename.replace(\".jpg\", \".txt\")\n",
    "        txt_filename = txt_filename.replace(\"input\", \"output\")\n",
    "        txt_path = os.path.join(output_folder, txt_filename)\n",
    "        \n",
    "        if os.path.exists(txt_path):\n",
    "            with open(txt_path, 'r') as txt_file:\n",
    "                label = txt_file.read().strip()\n",
    "\n",
    "        image_path = os.path.join(input_folder, filename)\n",
    "        print(f\"performing task on {image_path}\")\n",
    "        image = Image.open(image_path)\n",
    "        image_simpler = convert_image_to_white_or_black_r_image(image)\n",
    "\n",
    "        image_list = crop_image_and_return_5char(image, coordinates)\n",
    "        image_simpler_list = crop_image_and_return_5char(image_simpler, coordinates)\n",
    "        for i, char_image in enumerate(image_list):\n",
    "            char_label = label[i]\n",
    "            if len(filter_for_characters) == 0 or (char_label in filter_for_characters):\n",
    "                char_filename = f\"{os.path.splitext(filename)[0]}_char{i+1}.png\"\n",
    "                char_label_filename = f\"{os.path.splitext(txt_filename)[0]}_char{i+1}.txt\"\n",
    "                char_image.save(os.path.join(letters_input_folder, char_filename))\n",
    "                char_image_simpler = image_simpler_list[i]\n",
    "                char_simpler_filename = f\"{os.path.splitext(filename)[0]}_char{i+1}_worb.png\"\n",
    "                char_image_simpler.save(os.path.join(letters_input_folder, char_simpler_filename))\n",
    "                \n",
    "                with open(os.path.join(letters_output_folder, char_label_filename), 'w') as char_txt_file:\n",
    "                    char_txt_file.write(char_label)\n",
    "\n",
    "print(\"Processing complete.\")\n",
    "\n"
   ]
  },
  {
   "cell_type": "code",
   "execution_count": 17,
   "id": "f0306619-c0a2-4b0c-b5de-13e62e1bcc2a",
   "metadata": {},
   "outputs": [
    {
     "name": "stdout",
     "output_type": "stream",
     "text": [
      "original\n"
     ]
    },
    {
     "data": {
      "image/jpeg": "[encoded data removed]",
      "image/png": "[encoded data removed]",
      "text/plain": [
       "<PIL.JpegImagePlugin.JpegImageFile image mode=RGB size=60x30>"
      ]
     },
     "metadata": {},
     "output_type": "display_data"
    },
    {
     "name": "stdout",
     "output_type": "stream",
     "text": [
      "\n",
      "result after conversion\n"
     ]
    },
    {
     "data": {
      "image/jpeg": "[encoded data removed]",
      "image/png": "[encoded data removed]",
      "text/plain": [
       "<PIL.Image.Image image mode=RGB size=60x30>"
      ]
     },
     "metadata": {},
     "output_type": "display_data"
    }
   ],
   "source": [
    "# Sample white or black conversion demonstration\n",
    "from PIL import Image\n",
    "import torch\n",
    "import torchvision.transforms as transforms\n",
    "import numpy as np\n",
    "i = Image.open(r'.\\torch_training_data\\input\\input19.jpg')\n",
    "\n",
    "def convert_image_to_white_or_black(image):\n",
    "    \"\"\"\n",
    "    This function convert a PIL image to a black (0 value) or white (255 value) image\n",
    "    args:\n",
    "        img : PIL image\n",
    "    output:\n",
    "        result img: PIL image\n",
    "    \"\"\"\n",
    "    image_np = np.array(image)\n",
    "    image_tensor = torch.from_numpy(image_np).permute(2, 0, 1).float()\n",
    "    binary_tensor = (image_tensor >= 128).to(torch.uint8)\n",
    "    result_tensor = binary_tensor * 255\n",
    "    result_np = result_tensor.permute(1, 2, 0).numpy().astype(np.uint8)\n",
    "    result_image = Image.fromarray(result_np)\n",
    "    return result_image\n",
    "r = convert_image_to_white_or_black(i)\n",
    "print(\"original\")\n",
    "display(i)\n",
    "print()\n",
    "print(\"result after conversion\")\n",
    "display(r)"
   ]
  },
  {
   "cell_type": "code",
   "execution_count": null,
   "id": "bef720c2-d4e9-4342-b40f-0f4427e733f6",
   "metadata": {},
   "outputs": [],
   "source": []
  }
 ],
 "metadata": {
  "kernelspec": {
   "display_name": "Python 3 (ipykernel)",
   "language": "python",
   "name": "python3"
  },
  "language_info": {
   "codemirror_mode": {
    "name": "ipython",
    "version": 3
   },
   "file_extension": ".py",
   "mimetype": "text/x-python",
   "name": "python",
   "nbconvert_exporter": "python",
   "pygments_lexer": "ipython3",
   "version": "3.11.9"
  }
 },
 "nbformat": 4,
 "nbformat_minor": 5
}
